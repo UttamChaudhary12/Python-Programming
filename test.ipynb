{
 "cells": [
  {
   "cell_type": "markdown",
   "metadata": {},
   "source": [
    "<h3><center>Week 1 - Assignment </center></h3>\n",
    "<h4><center>Uttam Chaudhary</center></h4>\n",
    "<h4><center>Presidential Graduate School</center></h4>\n",
    "<h4><center>PRG 330: Python Programming with Data</center></h4>\n",
    "<h4><center>Prof. Tek Raj Pant </center></h4>\n",
    "<h4><center>October 27, 2024</center></h4>"
   ]
  },
  {
   "cell_type": "markdown",
   "metadata": {},
   "source": [
    "# First program"
   ]
  },
  {
   "cell_type": "code",
   "execution_count": 30,
   "metadata": {},
   "outputs": [
    {
     "name": "stdout",
     "output_type": "stream",
     "text": [
      "Hello, World!\n"
     ]
    }
   ],
   "source": [
    "hello = \"Hello, World!\" # hello variable stores string called \"Hello, World!\"\n",
    "print(hello) # Print is used to show the message in the screen. Here I have printed \"hello\" that stores Hello, World! "
   ]
  },
  {
   "cell_type": "markdown",
   "metadata": {},
   "source": [
    "# python numbers"
   ]
  },
  {
   "cell_type": "markdown",
   "metadata": {},
   "source": [
    "<h5>Below are the examples of different types of numbers that can be used in python</h5>"
   ]
  },
  {
   "cell_type": "code",
   "execution_count": 25,
   "metadata": {},
   "outputs": [
    {
     "name": "stdout",
     "output_type": "stream",
     "text": [
      "3.14\n",
      "1j\n",
      "30\n",
      "<class 'float'>\n"
     ]
    }
   ],
   "source": [
    "age = 30 \n",
    "real_imaginary = 1j \n",
    "pi = 3.14\n",
    "print(pi)\n",
    "print(real_imaginary)\n",
    "print(age)\n",
    "print (type(pi)) # type is used to know the type of data. "
   ]
  },
  {
   "cell_type": "markdown",
   "metadata": {},
   "source": [
    "# arithmetic operations"
   ]
  },
  {
   "cell_type": "markdown",
   "metadata": {},
   "source": [
    "<h5>Different arithmetic operation examples have been provided below.</h5>"
   ]
  },
  {
   "cell_type": "code",
   "execution_count": 26,
   "metadata": {},
   "outputs": [
    {
     "name": "stdout",
     "output_type": "stream",
     "text": [
      "3\n",
      "-1\n",
      "1\n",
      "0\n",
      "1\n",
      "0\n"
     ]
    }
   ],
   "source": [
    "import math # math library has been imported to perform ceil and floor operation.\n",
    "a = 1\n",
    "b = 2\n",
    "sum = a + b \n",
    "subtraction = a - b\n",
    "modular = a % b # % represents modular and is used to find the remainder. \n",
    "divide_with_floor = a // b # // this can also be used for performing floor operation. \n",
    "divide = a / b  \n",
    "print(sum)\n",
    "print(subtraction)\n",
    "print(modular)\n",
    "print(divide_with_floor)\n",
    "print(math.ceil(divide)) # Here I am using ceiling feature of math library that was imported above \n",
    "print(math.floor(divide)) # Here I am using floor feature of math library. "
   ]
  },
  {
   "cell_type": "markdown",
   "metadata": {},
   "source": [
    "# String in Python"
   ]
  },
  {
   "cell_type": "markdown",
   "metadata": {},
   "source": [
    "<h5>Below is some of the ways in which string can be printed. I have specifically used f-string feature to print different sentences as it allows use to format selected parts of strings. In order to format values in f-string placeholders have to be added which are represented by {}. I have also shown index feature which is represented by []. This feature is used to print specific characters in python.</h5>"
   ]
  },
  {
   "cell_type": "code",
   "execution_count": 27,
   "metadata": {},
   "outputs": [
    {
     "name": "stdout",
     "output_type": "stream",
     "text": [
      "My name is Uttam Chaudhary\n",
      "There are 15 characters in my name.\n",
      "I live in Kathmandu\n",
      "U\n",
      "y\n",
      "Utt\n"
     ]
    }
   ],
   "source": [
    "name = \"Uttam Chaudhary\"\n",
    "city = \"Kathmandu\"\n",
    "print(f\"My name is {name}\") \n",
    "print(f\"There are {(len(name))} characters in my name.\")\n",
    "print(f\"I live in {city}\")\n",
    "print(name[0]) # This will print the first character of any given strings. \n",
    "print(name[-1]) # This will print the last character of any given strings. This is only applicable to python. \n",
    "print(name[ : 3]) #This will print from the first character till specified index and also exclude the upper index while printing. "
   ]
  },
  {
   "cell_type": "markdown",
   "metadata": {},
   "source": [
    "<h5>In the below program one string have been divided into  different substrings. </h5>"
   ]
  },
  {
   "cell_type": "code",
   "execution_count": 28,
   "metadata": {},
   "outputs": [
    {
     "name": "stdout",
     "output_type": "stream",
     "text": [
      "Bibek Raj Dangol\n"
     ]
    }
   ],
   "source": [
    "Name = \"Bibek Raj Dangol\"\n",
    "first_name = Name[ : 5]\n",
    "middle_name = Name[6 : 9]\n",
    "last_name = Name[10: ]\n",
    "print(first_name, middle_name, last_name)"
   ]
  },
  {
   "cell_type": "markdown",
   "metadata": {},
   "source": [
    "# Boolean "
   ]
  },
  {
   "cell_type": "markdown",
   "metadata": {},
   "source": [
    "<h5>Below boolean values have been shown. Boolean can only store two values. It can either be True or False. The values can also be anything else that evaluate to one of those values. </h5>"
   ]
  },
  {
   "cell_type": "code",
   "execution_count": null,
   "metadata": {},
   "outputs": [],
   "source": [
    "passed = True\n",
    "gave_exam = False"
   ]
  },
  {
   "cell_type": "markdown",
   "metadata": {},
   "source": [
    "# conditional statement"
   ]
  },
  {
   "cell_type": "markdown",
   "metadata": {},
   "source": [
    "<h5>Below the code for program to know if any given number is even or odd is written. In the code modular operation has been used to find the remainder of the given number when it is divided by 2. If statement has been used to check the remainder. If the remainder is 0, the output will be \"The number is even\", if not the output will be \"The number is odd\".</h5>  "
   ]
  },
  {
   "cell_type": "code",
   "execution_count": 3,
   "metadata": {},
   "outputs": [
    {
     "name": "stdout",
     "output_type": "stream",
     "text": [
      "The number is even\n"
     ]
    }
   ],
   "source": [
    "num = int(input(\"Enter a number\"))\n",
    "odd_or_even = num % 2 \n",
    "if odd_or_even == 0:\n",
    "    print(\"The number is even\")\n",
    "else:\n",
    "    print(\"Number is odd\")\n"
   ]
  },
  {
   "cell_type": "markdown",
   "metadata": {},
   "source": [
    "<h5>The program written below shows \"Time for python\" when time is between 10 to 12. If the given time is between 12 and 14, the output will be \"DSA class\". If the given time is between 14 and 16, the output will be \"English class\". </h5>"
   ]
  },
  {
   "cell_type": "code",
   "execution_count": 8,
   "metadata": {},
   "outputs": [
    {
     "name": "stdout",
     "output_type": "stream",
     "text": [
      "DSA class\n"
     ]
    }
   ],
   "source": [
    "time = int(input(\"Enter time\"))\n",
    "if time >= 10 and time <12:\n",
    "    print(\"Time for python\")\n",
    "elif time >= 12 and time < 14:\n",
    "    print(\"DSA class\")\n",
    "elif time >= 14 and time < 16:\n",
    "    print(\"English class\")\n",
    "\n",
    "    "
   ]
  },
  {
   "cell_type": "markdown",
   "metadata": {},
   "source": [
    "<h5>The program below is for knowing the ticket price for different countries. If the given country is \"Nepal\" or \"India\", the output will be \"The ticket price is 50\". If any other country is given the output will be \"Ticket price is 100\". Lower feature has also been used while comparing the country. Lower statement converts all the strings into lowercase characters.</h5>  "
   ]
  },
  {
   "cell_type": "code",
   "execution_count": 20,
   "metadata": {},
   "outputs": [
    {
     "name": "stdout",
     "output_type": "stream",
     "text": [
      "Ticket price is 100\n"
     ]
    }
   ],
   "source": [
    "city = input(\"Enter country name\")\n",
    "if city.lower() == \"nepal\" or city.lower() == \"india\":\n",
    "    print(\"The ticket price is 50\")\n",
    "else:\n",
    "    print(\"Ticket price is 100\") "
   ]
  },
  {
   "cell_type": "markdown",
   "metadata": {},
   "source": [
    "# while loop"
   ]
  },
  {
   "cell_type": "markdown",
   "metadata": {},
   "source": [
    "<h5>Below program is the example of using while statement. The program will be printing counter values and \"Hello World\" untill the counter's value is less than 10.</h5>"
   ]
  },
  {
   "cell_type": "code",
   "execution_count": 22,
   "metadata": {},
   "outputs": [
    {
     "name": "stdout",
     "output_type": "stream",
     "text": [
      "0\n",
      "Hello World\n",
      "1\n",
      "Hello World\n",
      "2\n",
      "Hello World\n",
      "3\n",
      "Hello World\n",
      "4\n",
      "Hello World\n",
      "5\n",
      "Hello World\n",
      "6\n",
      "Hello World\n",
      "7\n",
      "Hello World\n",
      "8\n",
      "Hello World\n",
      "9\n",
      "Hello World\n"
     ]
    }
   ],
   "source": [
    "counter = 0 \n",
    "while counter < 10:\n",
    "    print(counter)\n",
    "    print(\"Hello World\")\n",
    "    counter += 1 \n"
   ]
  },
  {
   "cell_type": "markdown",
   "metadata": {},
   "source": [
    "<h5>Program given below is similar to the above program. The only difference is that in the above program, initial value of counter was 0 and after each loop, value of counter would increase by 1 while in this program the initial value of counter is 10 and after each loop, value of counter decreases by 1 and runs untill the value of counter is greater than 0. </h5>"
   ]
  },
  {
   "cell_type": "code",
   "execution_count": 25,
   "metadata": {},
   "outputs": [
    {
     "name": "stdout",
     "output_type": "stream",
     "text": [
      "Hello World\n",
      "Hello World\n",
      "Hello World\n",
      "Hello World\n",
      "Hello World\n",
      "Hello World\n",
      "Hello World\n",
      "Hello World\n",
      "Hello World\n",
      "Hello World\n"
     ]
    }
   ],
   "source": [
    "counter = 10\n",
    "while counter > 0:\n",
    "    print(\"Hello World\")\n",
    "    counter -=1\n",
    "    "
   ]
  },
  {
   "cell_type": "markdown",
   "metadata": {},
   "source": [
    "# finding sum of first n even numbers"
   ]
  },
  {
   "cell_type": "markdown",
   "metadata": {},
   "source": [
    "<h5>The program below is for getting the sum of first n even numbers. While statement has been used to loop the program so that the program runs untill the given n number. If statement is used to check if the number is even or not. If the number is even, sum is added.</h5> "
   ]
  },
  {
   "cell_type": "code",
   "execution_count": 35,
   "metadata": {},
   "outputs": [
    {
     "name": "stdout",
     "output_type": "stream",
     "text": [
      "2550\n"
     ]
    }
   ],
   "source": [
    "n = 100\n",
    "counter = 1\n",
    "sum = 0 \n",
    "while counter <= n:\n",
    "    if counter % 2 == 0: # we are finding even numbers and only getting their sums\n",
    "        sum += counter\n",
    "    counter += 1\n",
    "print(sum)"
   ]
  },
  {
   "cell_type": "markdown",
   "metadata": {},
   "source": [
    "# Finding the sum of first n natural numbers"
   ]
  },
  {
   "cell_type": "markdown",
   "metadata": {},
   "source": [
    "<h5>Below program adds the sum of first 100 natural numbers. For statement has been used to loop the program till the specified n number and sum is added in the each loop.</h5> "
   ]
  },
  {
   "cell_type": "code",
   "execution_count": 24,
   "metadata": {},
   "outputs": [
    {
     "name": "stdout",
     "output_type": "stream",
     "text": [
      "5050\n"
     ]
    }
   ],
   "source": [
    "n = 100 \n",
    "sum = 0\n",
    "for i in range(1, n + 1):\n",
    "    sum += i\n",
    "print(sum) \n"
   ]
  },
  {
   "cell_type": "markdown",
   "metadata": {},
   "source": [
    "# reverse the string"
   ]
  },
  {
   "cell_type": "markdown",
   "metadata": {},
   "source": [
    "<h5> This program below is for printing the given string in reverse order. First the length of the strings will be checked. After that while statement is used to loop the program untill the index that stores the length of strings is greater than or equal to 0. In each loop in the variable \"reverse_str\" the last character of the given string is added as length of the strings is used as index. The length feature always shows the total number of strings present in the variable. After each loop, the length of strings is decreased by 1 which will then add the second last character of string. This process repeats untill the string is stored in reverse order. </h5> "
   ]
  },
  {
   "cell_type": "code",
   "execution_count": 37,
   "metadata": {},
   "outputs": [
    {
     "name": "stdout",
     "output_type": "stream",
     "text": [
      "lapeN udnamhtaK\n"
     ]
    }
   ],
   "source": [
    "address = \"Kathmandu Nepal\"\n",
    "reverse_str = \"\"\n",
    "index = len(address) - 1\n",
    "\n",
    "while index >= 0: \n",
    "    reverse_str += address[index]\n",
    "    index -= 1\n",
    "\n",
    "print(reverse_str)"
   ]
  },
  {
   "cell_type": "markdown",
   "metadata": {},
   "source": [
    "# Working with lists"
   ]
  },
  {
   "cell_type": "markdown",
   "metadata": {},
   "source": [
    "<h5>Below are some of the operations that can be done in lists. "
   ]
  },
  {
   "cell_type": "code",
   "execution_count": 10,
   "metadata": {},
   "outputs": [
    {
     "name": "stdout",
     "output_type": "stream",
     "text": [
      "[1, 3, 4, 6, 7]\n",
      "[1, 3, 4, 6, 7, 8]\n",
      "The first number of list is 1.\n",
      "There are 6 numbers in the lists.\n",
      "The last number of the list is 8.\n"
     ]
    }
   ],
   "source": [
    "numbers = [1, 3, 4, 6, 7]\n",
    "print(numbers)\n",
    "numbers.append(8) # append feature adds value at the end of the list\n",
    "print(numbers)\n",
    "\n",
    "first_number = numbers[0] # 0 represents the first value in the list\n",
    "print(f\"The first number of list is {first_number}.\")\n",
    "\n",
    "total_numbers = len(numbers) # len has been used to know the total number of values present in the list \n",
    "print(f\"There are {total_numbers} numbers in the lists.\")\n",
    "\n",
    "last_number = numbers[total_numbers - 1] # this will show the last value present in the list\n",
    "print(f\"The last number of the list is {last_number}.\")"
   ]
  },
  {
   "cell_type": "code",
   "execution_count": 12,
   "metadata": {},
   "outputs": [
    {
     "name": "stdout",
     "output_type": "stream",
     "text": [
      "[1, 2, 3, 4]\n",
      "[]\n"
     ]
    }
   ],
   "source": [
    "numbers_1 = [1, 2]\n",
    "numbers_2 = [3, 4]\n",
    "numbers_1.extend(numbers_2) # extend feature combines one list with another\n",
    "print(numbers_1)\n",
    "\n",
    "numbers_1.clear() # clear feature removes all the values that are in the list \n",
    "print(numbers_1)"
   ]
  },
  {
   "cell_type": "code",
   "execution_count": 16,
   "metadata": {},
   "outputs": [
    {
     "name": "stdout",
     "output_type": "stream",
     "text": [
      "['Uttam', 'Bibek', 'Udhav']\n",
      "Bibek exists in names_1.\n"
     ]
    }
   ],
   "source": [
    "names_1  = [\"Uttam\", \"Bibek\"]\n",
    "names_2 = names_1\n",
    "names_1.append(\"Udhav\") # Udhav has been added in the list\n",
    "print(names_2)\n",
    "if \"Bibek\" in names_1: # checks if Bibek is in the list called \"names_1\"\n",
    "    print(\"Bibek exists in names_1.\") \n"
   ]
  },
  {
   "cell_type": "markdown",
   "metadata": {},
   "source": [
    "# Loop through list"
   ]
  },
  {
   "cell_type": "markdown",
   "metadata": {},
   "source": [
    "<h5>The program below is about adding the sum of numbers present in the list. While statment has been used to loop the program untill the number of loops is less than total number of values present in the list. In each loop the sum is added and counter of loop is increased by 1.</h5>"
   ]
  },
  {
   "cell_type": "code",
   "execution_count": 17,
   "metadata": {},
   "outputs": [
    {
     "name": "stdout",
     "output_type": "stream",
     "text": [
      "28\n"
     ]
    }
   ],
   "source": [
    "numbers = [1, 2, 3, 4, 5, 6, 7]\n",
    "total_numbers = len(numbers)\n",
    "index = 0 \n",
    "sum = 0\n",
    "while index < total_numbers:\n",
    "    element =  numbers[index]\n",
    "    sum += element\n",
    "    index += 1 \n",
    "print(sum)\n"
   ]
  },
  {
   "cell_type": "markdown",
   "metadata": {},
   "source": [
    "# Finding max value from the list"
   ]
  },
  {
   "cell_type": "markdown",
   "metadata": {},
   "source": [
    "<h5>The program below is about finding maximum number present in the list. In each loop, program check the if the number in the list is greater than current max value. If the number is greater than current max value, max value is changed to the number that it was compared to. This program runs untill all the numbers are compared with the max value. </h5>"
   ]
  },
  {
   "cell_type": "code",
   "execution_count": 20,
   "metadata": {},
   "outputs": [
    {
     "name": "stdout",
     "output_type": "stream",
     "text": [
      "The maximum number in the list is 7.\n"
     ]
    }
   ],
   "source": [
    "numbers = [1, 2, 3, 4, 5, 6, 7]\n",
    "total_numbers = len(numbers)\n",
    "index = 0 \n",
    "max_value = numbers[0]\n",
    "while index < total_numbers:\n",
    "    element = numbers[index]\n",
    "    if element > max_value:\n",
    "        max_value = element\n",
    "    index +=1\n",
    "print(f\"The maximum number in the list is {max_value}.\")"
   ]
  },
  {
   "cell_type": "markdown",
   "metadata": {},
   "source": [
    "# Filter value"
   ]
  },
  {
   "cell_type": "markdown",
   "metadata": {},
   "source": [
    "<h5>The program below creates a new lists \"filtered_students\" from lists \"students\". The filtered lists only adds those students whose name is not \"Uttam\".</h5>"
   ]
  },
  {
   "cell_type": "code",
   "execution_count": 22,
   "metadata": {},
   "outputs": [
    {
     "name": "stdout",
     "output_type": "stream",
     "text": [
      "['Suyog', 'Shreejal']\n"
     ]
    }
   ],
   "source": [
    "students = [\"Uttam\", \"Suyog\", \"Shreejal\"]\n",
    "filtered_students = [student for student in students if student != \"Uttam\"]\n",
    "print(filtered_students)"
   ]
  },
  {
   "cell_type": "markdown",
   "metadata": {},
   "source": [
    "# Creating a list of even number from the given list"
   ]
  },
  {
   "cell_type": "markdown",
   "metadata": {},
   "source": [
    "<h5>The program below creates the list \"even_numbers\" from the list \"numbers\" that only includes even numbers. In order to know if the number is even, modular has been used to divide the number by 2. If the remainder returns 0, it means the number is even and is added in the list \"even_numbers\". </h5>"
   ]
  },
  {
   "cell_type": "code",
   "execution_count": 23,
   "metadata": {},
   "outputs": [
    {
     "name": "stdout",
     "output_type": "stream",
     "text": [
      "[2, 4, 6, 8, 12, 14]\n"
     ]
    }
   ],
   "source": [
    "numbers = [1, 2, 3, 4, 6, 7, 8, 12, 11, 13, 14]\n",
    "even_numbers = [number for number in numbers if number % 2 == 0]\n",
    "print (even_numbers)"
   ]
  }
 ],
 "metadata": {
  "kernelspec": {
   "display_name": "base",
   "language": "python",
   "name": "python3"
  },
  "language_info": {
   "codemirror_mode": {
    "name": "ipython",
    "version": 3
   },
   "file_extension": ".py",
   "mimetype": "text/x-python",
   "name": "python",
   "nbconvert_exporter": "python",
   "pygments_lexer": "ipython3",
   "version": "3.11.7"
  }
 },
 "nbformat": 4,
 "nbformat_minor": 2
}
